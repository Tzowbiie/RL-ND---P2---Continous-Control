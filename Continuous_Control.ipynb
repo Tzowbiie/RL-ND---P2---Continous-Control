{
 "cells": [
  {
   "cell_type": "markdown",
   "metadata": {},
   "source": [
    "# Continuous Control\n",
    "\n",
    "---\n",
    "\n",
    "You are welcome to use this coding environment to train your agent for the project.  Follow the instructions below to get started!\n",
    "\n",
    "### 1. Start the Environment\n",
    "\n",
    "Run the next code cell to install a few packages.  This line will take a few minutes to run!"
   ]
  },
  {
   "cell_type": "code",
   "execution_count": 3,
   "metadata": {},
   "outputs": [
    {
     "name": "stdout",
     "output_type": "stream",
     "text": [
      "\u001b[31mtensorflow 1.7.1 has requirement numpy>=1.13.3, but you'll have numpy 1.12.1 which is incompatible.\u001b[0m\r\n",
      "\u001b[31mipython 6.5.0 has requirement prompt-toolkit<2.0.0,>=1.0.15, but you'll have prompt-toolkit 3.0.16 which is incompatible.\u001b[0m\r\n"
     ]
    }
   ],
   "source": [
    "!pip -q install ./python"
   ]
  },
  {
   "cell_type": "markdown",
   "metadata": {},
   "source": [
    "The environments corresponding to both versions of the environment are already saved in the Workspace and can be accessed at the file paths provided below.  \n",
    "\n",
    "Please select one of the two options below for loading the environment."
   ]
  },
  {
   "cell_type": "code",
   "execution_count": 4,
   "metadata": {},
   "outputs": [
    {
     "name": "stderr",
     "output_type": "stream",
     "text": [
      "INFO:unityagents:\n",
      "'Academy' started successfully!\n",
      "Unity Academy name: Academy\n",
      "        Number of Brains: 1\n",
      "        Number of External Brains : 1\n",
      "        Lesson number : 0\n",
      "        Reset Parameters :\n",
      "\t\tgoal_size -> 5.0\n",
      "\t\tgoal_speed -> 1.0\n",
      "Unity brain name: ReacherBrain\n",
      "        Number of Visual Observations (per agent): 0\n",
      "        Vector Observation space type: continuous\n",
      "        Vector Observation space size (per agent): 33\n",
      "        Number of stacked Vector Observation: 1\n",
      "        Vector Action space type: continuous\n",
      "        Vector Action space size (per agent): 4\n",
      "        Vector Action descriptions: , , , \n"
     ]
    }
   ],
   "source": [
    "import gym\n",
    "import random\n",
    "import torch\n",
    "import numpy as np\n",
    "import time\n",
    "from collections import deque\n",
    "import matplotlib.pyplot as plt\n",
    "%matplotlib inline\n",
    "\n",
    "#from unityagents import UnityEnvironment\n",
    "\n",
    "from python.unityagents.environment import UnityEnvironment\n",
    "from ddpg_agent import Agent\n",
    "\n",
    "# select this option to load version 1 (with a single agent) of the environment\n",
    "#env = UnityEnvironment(file_name='/data/Reacher_One_Linux_NoVis/Reacher_One_Linux_NoVis.x86_64')\n",
    "\n",
    "# select this option to load version 2 (with 20 agents) of the environment\n",
    "env = UnityEnvironment(file_name='/data/Reacher_Linux_NoVis/Reacher.x86_64')"
   ]
  },
  {
   "cell_type": "markdown",
   "metadata": {},
   "source": [
    "Environments contain **_brains_** which are responsible for deciding the actions of their associated agents. Here we check for the first brain available, and set it as the default brain we will be controlling from Python."
   ]
  },
  {
   "cell_type": "code",
   "execution_count": 5,
   "metadata": {},
   "outputs": [],
   "source": [
    "# get the default brain\n",
    "brain_name = env.brain_names[0]\n",
    "brain = env.brains[brain_name]"
   ]
  },
  {
   "cell_type": "markdown",
   "metadata": {},
   "source": [
    "### 2. Examine the State and Action Spaces\n",
    "\n",
    "Run the code cell below to print some information about the environment."
   ]
  },
  {
   "cell_type": "code",
   "execution_count": 6,
   "metadata": {},
   "outputs": [
    {
     "name": "stdout",
     "output_type": "stream",
     "text": [
      "Number of agents: 20\n",
      "Size of each action: 4\n",
      "There are 20 agents. Each observes a state with length: 33\n",
      "The state for the first agent looks like: [  0.00000000e+00  -4.00000000e+00   0.00000000e+00   1.00000000e+00\n",
      "  -0.00000000e+00  -0.00000000e+00  -4.37113883e-08   0.00000000e+00\n",
      "   0.00000000e+00   0.00000000e+00   0.00000000e+00   0.00000000e+00\n",
      "   0.00000000e+00   0.00000000e+00  -1.00000000e+01   0.00000000e+00\n",
      "   1.00000000e+00  -0.00000000e+00  -0.00000000e+00  -4.37113883e-08\n",
      "   0.00000000e+00   0.00000000e+00   0.00000000e+00   0.00000000e+00\n",
      "   0.00000000e+00   0.00000000e+00   5.75471878e+00  -1.00000000e+00\n",
      "   5.55726624e+00   0.00000000e+00   1.00000000e+00   0.00000000e+00\n",
      "  -1.68164849e-01]\n"
     ]
    }
   ],
   "source": [
    "# reset the environment\n",
    "env_info = env.reset(train_mode=True)[brain_name]\n",
    "\n",
    "# number of agents\n",
    "num_agents = len(env_info.agents)\n",
    "print('Number of agents:', num_agents)\n",
    "\n",
    "# size of each action\n",
    "action_size = brain.vector_action_space_size\n",
    "print('Size of each action:', action_size)\n",
    "\n",
    "# examine the state space \n",
    "states = env_info.vector_observations\n",
    "state_size = states.shape[1]\n",
    "print('There are {} agents. Each observes a state with length: {}'.format(states.shape[0], state_size))\n",
    "print('The state for the first agent looks like:', states[0])"
   ]
  },
  {
   "cell_type": "markdown",
   "metadata": {},
   "source": [
    "### 3. Take Random Actions in the Environment\n",
    "\n",
    "In the next code cell, you will learn how to use the Python API to control the agent and receive feedback from the environment.\n",
    "\n",
    "Note that **in this coding environment, you will not be able to watch the agents while they are training**, and you should set `train_mode=True` to restart the environment."
   ]
  },
  {
   "cell_type": "code",
   "execution_count": 7,
   "metadata": {},
   "outputs": [],
   "source": [
    "env_info = env.reset(train_mode=False)[brain_name]     # reset the environment    \n",
    "states = env_info.vector_observations                  # get the current state (for each agent)\n",
    "scores = np.zeros(num_agents)                          # initialize the score (for each agent)\n"
   ]
  },
  {
   "cell_type": "code",
   "execution_count": null,
   "metadata": {},
   "outputs": [],
   "source": [
    "while True:\n",
    "    actions = np.random.randn(num_agents, action_size) # select an action (for each agent)\n",
    "    actions = np.clip(actions, -1, 1)                  # all actions between -1 and 1\n",
    "    env_info = env.step(actions)[brain_name]           # send all actions to the environment\n",
    "    next_states = env_info.vector_observations         # get next state (for each agent)\n",
    "    rewards = env_info.rewards                         # get reward (for each agent)\n",
    "    dones = env_info.local_done                        # see if episode finished\n",
    "    scores += env_info.rewards                         # update the score (for each agent)\n",
    "    states = next_states                               # roll over states to next time step\n",
    "    if np.any(dones):                                  # exit loop if episode finished\n",
    "        break\n",
    "print('Total score (averaged over agents) this episode: {}'.format(np.mean(scores)))"
   ]
  },
  {
   "cell_type": "markdown",
   "metadata": {},
   "source": [
    "When finished, you can close the environment."
   ]
  },
  {
   "cell_type": "code",
   "execution_count": null,
   "metadata": {},
   "outputs": [],
   "source": [
    "#env.close()"
   ]
  },
  {
   "cell_type": "markdown",
   "metadata": {},
   "source": [
    "### 4. It's Your Turn!\n",
    "\n",
    "Now it's your turn to train your own agent to solve the environment!  A few **important notes**:\n",
    "- When training the environment, set `train_mode=True`, so that the line for resetting the environment looks like the following:\n",
    "```python\n",
    "env_info = env.reset(train_mode=True)[brain_name]\n",
    "```\n",
    "- To structure your work, you're welcome to work directly in this Jupyter notebook, or you might like to start over with a new file!  You can see the list of files in the workspace by clicking on **_Jupyter_** in the top left corner of the notebook.\n",
    "- In this coding environment, you will not be able to watch the agents while they are training.  However, **_after training the agents_**, you can download the saved model weights to watch the agents on your own machine! "
   ]
  },
  {
   "cell_type": "markdown",
   "metadata": {},
   "source": [
    "### 5. Instantiate the Environment and Agent"
   ]
  },
  {
   "cell_type": "code",
   "execution_count": null,
   "metadata": {},
   "outputs": [],
   "source": []
  },
  {
   "cell_type": "code",
   "execution_count": null,
   "metadata": {},
   "outputs": [],
   "source": []
  },
  {
   "cell_type": "code",
   "execution_count": null,
   "metadata": {},
   "outputs": [],
   "source": []
  },
  {
   "cell_type": "code",
   "execution_count": 8,
   "metadata": {},
   "outputs": [],
   "source": [
    "def ddpg(n_episodes=500, max_t=1000, solved_score=30.0, consec_episodes=100, print_every=1, save_every=5, train_mode=True,\n",
    "         actor_path='actor_ckpt.pth', critic_path='critic_ckpt.pth', continue_training = True):\n",
    "    \"\"\"Deep Deterministic Policy Gradient (DDPG)\n",
    "    \n",
    "    Params\n",
    "    ======\n",
    "        n_episodes (int)      : maximum number of training episodes\n",
    "        max_t (int)           : maximum number of timesteps per episode\n",
    "        train_mode (bool)     : if 'True' set environment to training mode\n",
    "        solved_score (float)  : min avg score over consecutive episodes\n",
    "        consec_episodes (int) : number of consecutive episodes used to calculate score\n",
    "        print_every (int)     : interval to display results\n",
    "        actor_path (str)      : directory to store actor network weights\n",
    "        critic_path (str)     : directory to store critic network weights\n",
    "\n",
    "    \"\"\"\n",
    "    mean_scores = []                               # list of mean scores from each episode\n",
    "    min_scores = []                                # list of lowest scores from each episode\n",
    "    max_scores = []                                # list of highest scores from each episode\n",
    "    best_score = -np.inf\n",
    "    scores_window = deque(maxlen=consec_episodes)  # mean scores from most recent episodes\n",
    "    moving_avgs = []                               # list of moving averages\n",
    "    \n",
    "    episodes_counter = 1\n",
    "    # to continue Training, load the actor and critic checkpoints\n",
    "    if continue_training:\n",
    "        checkpoint_actor = torch.load('actor_temp.pt')\n",
    "        checkpoint_critic = torch.load('critic_temp.pt') \n",
    "        #update i_episode for correct counting\n",
    "        episodes_counter = checkpoint_actor['epoch']\n",
    "        #load networks to continue training\n",
    "        agent.actor_local.load_state_dict(checkpoint_actor['local_model_state_dict'])\n",
    "        agent.actor_target.load_state_dict(checkpoint_actor['target_model_state_dict'])\n",
    "        agent.actor_optimizer.load_state_dict(checkpoint_actor['optimizer_state_dict'])\n",
    "        agent.actor_loss = checkpoint_actor['loss']\n",
    "        mean_scores = checkpoint_actor['mean']\n",
    "        scores_window = checkpoint_actor['scores_window']\n",
    "        moving_avgs = checkpoint_actor['moving_avgs']\n",
    "        #load networks to continue training\n",
    "        agent.critic_local.load_state_dict(checkpoint_critic['local_model_state_dict'])\n",
    "        agent.critic_target.load_state_dict(checkpoint_critic['target_model_state_dict'])\n",
    "        agent.critic_optimizer.load_state_dict(checkpoint_critic['optimizer_state_dict'])\n",
    "        agent.critic_loss = checkpoint_critic['loss']\n",
    "        \n",
    "    \n",
    "    for i_episode in range(episodes_counter, n_episodes+1):\n",
    "        \n",
    "        #print(episodes_counter)\n",
    "        env_info = env.reset(train_mode=train_mode)[brain_name] # reset environment\n",
    "        states = env_info.vector_observations                   # get current state for each agent      \n",
    "        scores = np.zeros(num_agents)                           # initialize score for each agent\n",
    "        agent.reset()\n",
    "        start_time = time.time()\n",
    "        for t in range(max_t):\n",
    "            actions = agent.act(states, add_noise=True)         # select an action\n",
    "            env_info = env.step(actions)[brain_name]            # send actions to environment\n",
    "            next_states = env_info.vector_observations          # get next state\n",
    "            rewards = env_info.rewards                          # get reward\n",
    "            dones = env_info.local_done                         # see if episode has finished\n",
    "            # save experience to replay buffer, perform learning step at defined interval\n",
    "            for state, action, reward, next_state, done in zip(states, actions, rewards, next_states, dones):\n",
    "                agent.step(state, action, reward, next_state, done, t)             \n",
    "            states = next_states\n",
    "            scores += rewards        \n",
    "            if np.any(dones):                                   # exit loop when episode ends\n",
    "                break\n",
    "\n",
    "        duration = time.time() - start_time\n",
    "        min_scores.append(np.min(scores))             # save lowest score for a single agent\n",
    "        max_scores.append(np.max(scores))             # save highest score for a single agent        \n",
    "        mean_scores.append(np.mean(scores))           # save mean score for the episode\n",
    "        scores_window.append(mean_scores[-1])         # save mean score to window\n",
    "        moving_avgs.append(np.mean(scores_window))    # save moving average\n",
    "                \n",
    "        if i_episode % print_every == 0:\n",
    "            print('\\rEpisode {} ({} sec)  -- \\tMin: {:.1f}\\tMax: {:.1f}\\tMean: {:.1f}\\tMov. Avg: {:.1f}'.format(\\\n",
    "                  i_episode, round(duration), min_scores[-1], max_scores[-1], mean_scores[-1], moving_avgs[-1]))\n",
    "        if i_episode % save_every == 0:    \n",
    "            #saving network parameters in case of notebook crash\n",
    "            #print('Start')\n",
    "            torch.save({\n",
    "            'epoch': i_episode,\n",
    "            'local_model_state_dict': agent.actor_local.state_dict(),\n",
    "            'target_model_state_dict': agent.actor_target.state_dict(),    \n",
    "            'optimizer_state_dict': agent.actor_optimizer.state_dict(),\n",
    "            'loss': agent.actor_loss,\n",
    "            'mean': mean_scores,\n",
    "            'scores_window': scores_window,\n",
    "            'moving_avgs': moving_avgs\n",
    "            }, 'actor_temp.pt')\n",
    "            \n",
    "            torch.save({\n",
    "            'epoch': i_episode,\n",
    "            'local_model_state_dict': agent.critic_local.state_dict(),\n",
    "            'target_model_state_dict': agent.critic_target.state_dict(),    \n",
    "            'optimizer_state_dict': agent.critic_optimizer.state_dict(),\n",
    "            'loss': agent.critic_loss,\n",
    "            }, 'critic_temp.pt')\n",
    "            print('Network parameters saved')\n",
    "        if train_mode and mean_scores[-1] > best_score:\n",
    "            torch.save(agent.actor_local.state_dict(), actor_path)\n",
    "            torch.save(agent.critic_local.state_dict(), critic_path)\n",
    "                  \n",
    "        if moving_avgs[-1] >= solved_score and i_episode >= consec_episodes:\n",
    "            print('\\nEnvironment SOLVED in {} episodes!\\tMoving Average ={:.1f} over last {} episodes'.format(\\\n",
    "                                    i_episode-consec_episodes, moving_avgs[-1], consec_episodes))            \n",
    "            if train_mode:\n",
    "                torch.save(agent.actor_local.state_dict(), actor_path)\n",
    "                torch.save(agent.critic_local.state_dict(), critic_path)  \n",
    "            break\n",
    "            \n",
    "    return mean_scores, moving_avgs"
   ]
  },
  {
   "cell_type": "code",
   "execution_count": 9,
   "metadata": {},
   "outputs": [
    {
     "name": "stdout",
     "output_type": "stream",
     "text": [
      "Episode 100 (121 sec)  -- \tMin: 5.5\tMax: 26.1\tMean: 17.7\tMov. Avg: 26.9\n",
      "Network parameters saved\n",
      "Episode 101 (124 sec)  -- \tMin: 10.0\tMax: 28.7\tMean: 19.3\tMov. Avg: 27.0\n",
      "Episode 102 (130 sec)  -- \tMin: 12.1\tMax: 35.6\tMean: 27.9\tMov. Avg: 27.3\n",
      "Episode 103 (131 sec)  -- \tMin: 25.3\tMax: 39.4\tMean: 32.5\tMov. Avg: 27.6\n",
      "Episode 104 (133 sec)  -- \tMin: 21.3\tMax: 38.1\tMean: 32.5\tMov. Avg: 27.8\n",
      "Episode 105 (128 sec)  -- \tMin: 25.6\tMax: 39.4\tMean: 34.3\tMov. Avg: 28.1\n",
      "Network parameters saved\n",
      "Episode 106 (126 sec)  -- \tMin: 30.5\tMax: 39.4\tMean: 36.7\tMov. Avg: 28.4\n",
      "Episode 107 (125 sec)  -- \tMin: 29.2\tMax: 39.5\tMean: 36.9\tMov. Avg: 28.7\n",
      "Episode 108 (126 sec)  -- \tMin: 29.2\tMax: 38.4\tMean: 35.6\tMov. Avg: 29.0\n",
      "Episode 109 (129 sec)  -- \tMin: 25.6\tMax: 39.2\tMean: 36.6\tMov. Avg: 29.2\n",
      "Episode 110 (140 sec)  -- \tMin: 26.2\tMax: 39.6\tMean: 35.8\tMov. Avg: 29.5\n",
      "Network parameters saved\n",
      "Episode 111 (133 sec)  -- \tMin: 31.4\tMax: 39.6\tMean: 36.3\tMov. Avg: 29.7\n",
      "Episode 112 (131 sec)  -- \tMin: 13.8\tMax: 39.4\tMean: 34.8\tMov. Avg: 30.0\n",
      "Episode 113 (137 sec)  -- \tMin: 26.9\tMax: 39.4\tMean: 35.4\tMov. Avg: 30.2\n",
      "\n",
      "Environment SOLVED in 13 episodes!\tMoving Average =30.2 over last 100 episodes\n"
     ]
    }
   ],
   "source": [
    "# run the training loop\n",
    "agent = Agent(state_size=state_size, action_size=action_size, random_seed=1)\n",
    "scores, avgs = ddpg()"
   ]
  },
  {
   "cell_type": "code",
   "execution_count": 10,
   "metadata": {},
   "outputs": [
    {
     "data": {
      "image/png": "[encoded data removed]",
      "text/plain": [
       "<matplotlib.figure.Figure at 0x7f17b3220978>"
      ]
     },
     "metadata": {
      "needs_background": "light"
     },
     "output_type": "display_data"
    }
   ],
   "source": [
    "# plot the scores\n",
    "fig = plt.figure()\n",
    "ax = fig.add_subplot(111)\n",
    "plt.plot(np.arange(len(scores)), scores, label='DDPG')\n",
    "plt.plot(np.arange(len(scores)), avgs, c='r', label='moving avg')\n",
    "plt.ylabel('Score')\n",
    "plt.xlabel('Episode #')\n",
    "plt.legend(loc='upper left');\n",
    "plt.show()"
   ]
  },
  {
   "cell_type": "code",
   "execution_count": 16,
   "metadata": {},
   "outputs": [
    {
     "data": {
      "image/png": "[encoded data removed]",
      "text/plain": [
       "<matplotlib.figure.Figure at 0x7f1819fc4ba8>"
      ]
     },
     "metadata": {
      "needs_background": "light"
     },
     "output_type": "display_data"
    },
    {
     "name": "stdout",
     "output_type": "stream",
     "text": [
      "114\n",
      "0 nummer 0.982499978039\n",
      "1 nummer 1.49024996669\n",
      "2 nummer 1.84733329204\n",
      "3 nummer 2.21199995056\n",
      "4 nummer 2.5367999433\n",
      "5 nummer 2.74424993866\n",
      "6 nummer 2.95714279105\n",
      "7 nummer 3.32681242564\n",
      "8 nummer 3.65405547388\n",
      "9 nummer 4.01584991024\n",
      "10 nummer 4.41995444666\n",
      "11 nummer 4.71954156118\n",
      "12 nummer 5.08996142469\n",
      "13 nummer 5.44499987829\n",
      "14 nummer 5.81643320333\n",
      "15 nummer 6.16353111223\n",
      "16 nummer 6.4919116196\n",
      "17 nummer 6.77833318183\n",
      "18 nummer 6.98323668602\n",
      "19 nummer 7.30177483679\n",
      "20 nummer 7.3660474544\n",
      "21 nummer 7.44404528816\n",
      "22 nummer 7.49002157172\n",
      "23 nummer 7.63437482936\n",
      "24 nummer 7.77917982612\n",
      "25 nummer 7.94084597635\n",
      "26 nummer 8.09490722647\n",
      "27 nummer 8.30503552865\n",
      "28 nummer 8.61317222127\n",
      "29 nummer 8.99859979887\n",
      "30 nummer 9.40777398327\n",
      "31 nummer 9.80167165592\n",
      "32 nummer 10.2187270443\n",
      "33 nummer 10.6481468208\n",
      "34 nummer 11.0456283245\n",
      "35 nummer 11.487902521\n",
      "36 nummer 11.9178105444\n",
      "37 nummer 12.3615655132\n",
      "38 nummer 12.771512535\n",
      "39 nummer 13.2167747046\n",
      "40 nummer 13.6656094506\n",
      "41 nummer 14.117321113\n",
      "42 nummer 14.6068368828\n",
      "43 nummer 15.0872382991\n",
      "44 nummer 15.5531996524\n",
      "45 nummer 16.006880077\n",
      "46 nummer 16.425361335\n",
      "47 nummer 16.8437912902\n",
      "48 nummer 17.243928186\n",
      "49 nummer 17.6451496056\n",
      "50 nummer 18.0422937144\n",
      "51 nummer 17.9392399836\n",
      "52 nummer 17.9306128068\n",
      "53 nummer 18.1950366303\n",
      "54 nummer 18.4660177691\n",
      "55 nummer 18.7176245816\n",
      "56 nummer 18.9871662423\n",
      "57 nummer 19.2400685355\n",
      "58 nummer 19.5112792249\n",
      "59 nummer 19.7930495576\n",
      "60 nummer 20.055786437\n",
      "61 nummer 20.2899995465\n",
      "62 nummer 20.5517217629\n",
      "63 nummer 20.8165151597\n",
      "64 nummer 21.0783379904\n",
      "65 nummer 21.3394313412\n",
      "66 nummer 21.597387577\n",
      "67 nummer 21.8407127471\n",
      "68 nummer 22.0764560283\n",
      "69 nummer 22.310263787\n",
      "70 nummer 22.5358375245\n",
      "71 nummer 22.7568189358\n",
      "72 nummer 22.5867118239\n",
      "73 nummer 22.4998035511\n",
      "74 nummer 22.4986261638\n",
      "75 nummer 22.5993679159\n",
      "76 nummer 22.7109540378\n",
      "77 nummer 22.8563776942\n",
      "78 nummer 22.9980880935\n",
      "79 nummer 23.1358619829\n",
      "80 nummer 23.254431579\n",
      "81 nummer 23.3509933805\n",
      "82 nummer 23.4388127291\n",
      "83 nummer 23.5836601871\n",
      "84 nummer 23.7434994693\n",
      "85 nummer 23.8810983034\n",
      "86 nummer 24.0243960147\n",
      "87 nummer 24.1589483236\n",
      "88 nummer 24.278094963\n",
      "89 nummer 24.3929438992\n",
      "90 nummer 24.5438236272\n",
      "91 nummer 24.6790157527\n",
      "92 nummer 24.8071338541\n",
      "93 nummer 24.9336430597\n",
      "94 nummer 25.0582731241\n",
      "95 nummer 25.1894265203\n",
      "96 nummer 25.3135148981\n",
      "97 nummer 25.443213717\n",
      "98 nummer 25.5625297317\n",
      "99 nummer 25.680714426\n",
      "100 nummer 26.0492794178\n",
      "101 nummer 26.4015094099\n",
      "102 nummer 26.7434594022\n",
      "103 nummer 26.887184399\n",
      "104 nummer 27.0421993956\n",
      "105 nummer 27.2831443902\n",
      "106 nummer 27.5653893839\n",
      "107 nummer 27.8309743779\n",
      "108 nummer 28.1108893717\n",
      "109 nummer 28.4051043651\n",
      "110 nummer 28.6893893587\n",
      "111 nummer 28.9654693526\n",
      "112 nummer 29.2362843465\n",
      "113 nummer 29.4937443408\n"
     ]
    }
   ],
   "source": [
    "#Load scores manually\n",
    "checkpoint_actor = torch.load('actor_temp.pt')\n",
    "scores = checkpoint_actor['mean']\n",
    "avgs = checkpoint_actor['moving_avgs']\n",
    "\n",
    "# plot the scores\n",
    "fig = plt.figure()\n",
    "ax = fig.add_subplot(111)\n",
    "plt.plot(np.arange(len(scores)), scores, label='DDPG')\n",
    "plt.plot(np.arange(len(scores)), avgs, c='r', label='moving avg')\n",
    "plt.ylabel('Score')\n",
    "plt.xlabel('Episode #')\n",
    "plt.legend(loc='upper left');\n",
    "plt.show()\n",
    "#print(len(scores))\n",
    "#i = 0\n",
    "#while (i < 114):\n",
    "#    print(i, \"nummer\", avgs[i])\n",
    "    i=i+1"
   ]
  },
  {
   "cell_type": "code",
   "execution_count": 15,
   "metadata": {},
   "outputs": [],
   "source": [
    "env.close()"
   ]
  },
  {
   "cell_type": "code",
   "execution_count": null,
   "metadata": {},
   "outputs": [],
   "source": []
  }
 ],
 "metadata": {
  "kernelspec": {
   "display_name": "Python 3",
   "language": "python",
   "name": "python3"
  },
  "language_info": {
   "codemirror_mode": {
    "name": "ipython",
    "version": 3
   },
   "file_extension": ".py",
   "mimetype": "text/x-python",
   "name": "python",
   "nbconvert_exporter": "python",
   "pygments_lexer": "ipython3",
   "version": "3.6.3"
  }
 },
 "nbformat": 4,
 "nbformat_minor": 2
}
